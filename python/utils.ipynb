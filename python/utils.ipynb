{
 "cells": [
  {
   "cell_type": "markdown",
   "id": "1721bd75-55b8-44eb-a697-3edd4eb50b91",
   "metadata": {},
   "source": [
    "# Helper functions"
   ]
  },
  {
   "cell_type": "code",
   "execution_count": null,
   "id": "8700557f-1ede-48c0-b429-7388e8dfda86",
   "metadata": {},
   "outputs": [],
   "source": [
    "import numpy as np"
   ]
  },
  {
   "cell_type": "markdown",
   "id": "06cef275-48c5-4656-b312-e782cb6f6b67",
   "metadata": {},
   "source": [
    "### Normalize value to the interval $[ -p, p ]$ WITHOUT symmetry"
   ]
  },
  {
   "cell_type": "code",
   "execution_count": null,
   "id": "766baf7e-8f65-432a-b001-1ea0114986ca",
   "metadata": {},
   "outputs": [],
   "source": [
    "def normalize_asym(x, p):\n",
    "    '''\n",
    "    Normalize a value to the inverval of :math:`[-p, p]` on a meridian.\n",
    "    Normalized values from :math:`0 \\to p` are equivalent to the values\n",
    "    in the interval :math:`2p \\to p` times :math:`-1`.\n",
    "\n",
    "    Parameters:\n",
    "    -----------\n",
    "    x : float\n",
    "        Value to normalize.\n",
    "    p : float\n",
    "        Edge of the interval.\n",
    "\n",
    "    Returns:\n",
    "    --------\n",
    "    xn : float\n",
    "        Normalized value.\n",
    "    '''\n",
    "    assert p > 0, 'The value of `p` cannot be non-positive!'\n",
    "    xn = (x + p) % (2*p) - p\n",
    "    return xn"
   ]
  },
  {
   "cell_type": "code",
   "execution_count": null,
   "id": "f28540e5-f9c5-4a86-9012-3f0b03c1581b",
   "metadata": {},
   "outputs": [],
   "source": [
    "phi = [0, 10, -10, 90, -90, 100, -100, 180, -180, 190, -190, 350, 360, 370]\n",
    "exp = [0, 10, -10, 90, -90, 100, -100, -180, -180, -170, 170, -10, 0, 10]\n",
    "\n",
    "for a, e in zip(phi, exp):\n",
    "    print(f'{a}\\t->\\t{normalize_asym(a, p=180)}\\t| exp: {e}')"
   ]
  },
  {
   "cell_type": "markdown",
   "id": "e0f51186-c116-4749-b395-045fdbfe430f",
   "metadata": {},
   "source": [
    "### Normalize value to the interval $[ -p, p ]$ WITH symmetry"
   ]
  },
  {
   "cell_type": "code",
   "execution_count": null,
   "id": "52023835-a1c1-4f12-907d-645c1e57456c",
   "metadata": {},
   "outputs": [],
   "source": [
    "def normalize_sym(x, p):\n",
    "    '''\n",
    "    Normalize a value to the inverval of :math:`[-p, p]` on a meridian.\n",
    "    Normalized values from :math:`2p \\to p` are equivalent to\n",
    "    :math:`0 \\to p`. Similarly, values from :math:`-2p \\to -p` are\n",
    "    equivalent to :math:`0 \\to -p`.\n",
    "\n",
    "    Parameters:\n",
    "    -----------\n",
    "    x : float\n",
    "        Value to normalize.\n",
    "    p : float\n",
    "        Edge of the symmetric interval.\n",
    "\n",
    "    Returns:\n",
    "    --------\n",
    "    xn : float\n",
    "        Normalized value.\n",
    "    '''\n",
    "    assert p > 0, 'The value of `p` cannot be non-positive!'\n",
    "    xn = normalize_asym(x, 2*p)  # First normalize to [-2p, 2p]\n",
    "    xn = np.sign(xn)*(2*p) - xn if np.abs(xn) > p else xn\n",
    "    return xn"
   ]
  },
  {
   "cell_type": "code",
   "execution_count": null,
   "id": "2f64191c-0888-4007-bc1c-c05703314d2c",
   "metadata": {},
   "outputs": [],
   "source": [
    "phi = [0, 10, -10, 90, -90, 100, -100, 180, -180, 190, -190, 350, 360, 370]\n",
    "exp = [0, 10, -10, 90, -90, 80, -80, 0, 0, -10, 10, -10, 0, 10]\n",
    "\n",
    "for a, e in zip(phi, exp):\n",
    "    print(f'{a}\\t->\\t{normalize_sym(a, p=90)}\\t| exp: {e}')"
   ]
  },
  {
   "cell_type": "markdown",
   "id": "c19b90c2-92f8-4277-a6d2-4e3f4e7081da",
   "metadata": {},
   "source": [
    "### Normalize value to the interval $[ 0, p ]$ with cyclicity"
   ]
  },
  {
   "cell_type": "code",
   "execution_count": null,
   "id": "adb78e92-1a30-4d91-8cc4-69e5996cd53b",
   "metadata": {},
   "outputs": [],
   "source": [
    "def normalize_cyc(x, p):\n",
    "    assert p > 0, 'The value of `p` cannot be non-positive!'\n",
    "    return x%p, x//p"
   ]
  },
  {
   "cell_type": "code",
   "execution_count": null,
   "id": "f33bd904-dc94-4319-bef2-6907955d0bb0",
   "metadata": {},
   "outputs": [],
   "source": []
  }
 ],
 "metadata": {
  "kernelspec": {
   "display_name": "Python 3 (ipykernel)",
   "language": "python",
   "name": "python3"
  },
  "language_info": {
   "codemirror_mode": {
    "name": "ipython",
    "version": 3
   },
   "file_extension": ".py",
   "mimetype": "text/x-python",
   "name": "python",
   "nbconvert_exporter": "python",
   "pygments_lexer": "ipython3",
   "version": "3.9.19"
  }
 },
 "nbformat": 4,
 "nbformat_minor": 5
}
