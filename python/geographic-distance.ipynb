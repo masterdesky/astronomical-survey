{
 "cells": [
  {
   "cell_type": "markdown",
   "id": "c28c0d03-9b4a-4367-87f3-990b01694010",
   "metadata": {},
   "source": [
    "# Haversine formula\n",
    "### Geographical distance between two points on the surface of a spherical object"
   ]
  },
  {
   "cell_type": "markdown",
   "id": "b629cc90-e393-4d4d-89e8-46fc83d16757",
   "metadata": {},
   "source": [
    "Here we calculate geographical distance on a sphere, between a pair of given latitudes and longitudes.\n",
    "The **Haversine formula** could be used in this case:\n",
    "\n",
    "$\\DeclareMathOperator{\\arctantwo}{arctan2}$\n",
    "\n",
    "$$\n",
    "\\begin{equation}\n",
    "    H_{1}\n",
    "    =\n",
    "    \\sin{\\left( \\frac{\\phi_{2} - \\phi_{1}}{2} \\right)}^{2}\n",
    "    +\n",
    "    \\cos{\\left( \\phi_{1} \\right)} \\cdot \\cos{\\left(\\phi_{2} \\right)}\n",
    "    \\cdot\n",
    "    \\sin{\\left( \\frac{\\lambda_{2} - \\lambda_{1}}{2} \\right)}^{2}\n",
    "\\end{equation}\n",
    "$$\n",
    "\n",
    "$$\n",
    "\\begin{equation} \n",
    "    H_{2}\n",
    "    =\n",
    "    2 \\cdot \\arctantwo{\\left( \\sqrt{H_{1}}, \\sqrt{1 - H_{1}} \\right)}\n",
    "\\end{equation}\n",
    "$$\n",
    "\n",
    "$$\n",
    "\\begin{equation}\n",
    "    d = R \\cdot H_{2},\n",
    "\\end{equation}\n",
    "$$\n",
    "\n",
    "where $\\phi_{1}$, $\\phi_{2}$ and $\\lambda_{1}$, $\\lambda_{2}$ are the two arbitrary set of latitudes and longitudes, respectively. $R$ is the radius of the sphere (e.g. a planet).\n",
    "\n",
    "#### References\n",
    "- https://www.movable-type.co.uk/scripts/latlong.html"
   ]
  },
  {
   "cell_type": "code",
   "execution_count": null,
   "id": "2a5e33c7-465d-4c31-a33f-acbd2107d16e",
   "metadata": {},
   "outputs": [],
   "source": [
    "import numpy as np\n",
    "\n",
    "from _utils import *"
   ]
  },
  {
   "cell_type": "code",
   "execution_count": null,
   "id": "82891e74-937c-4bc8-b9a2-ef89774d309f",
   "metadata": {},
   "outputs": [],
   "source": [
    "# Earth's radius in [meters]\n",
    "R_Earth = 6378e03"
   ]
  },
  {
   "cell_type": "code",
   "execution_count": null,
   "id": "e530d47b-dc58-4b4f-bbec-3ce1375d90b4",
   "metadata": {},
   "outputs": [],
   "source": [
    "# Predefined coordinates of some \"notable\" cities\n",
    "# Format: \"LocationName\": [N Latitude (φ), E Longitude(λ)]\n",
    "# Latitude: + if N, - if S\n",
    "# Longitude: + if E, - if W\n",
    "location_dict = {\n",
    "    \"Amsterdam\": [52.3702, 4.8952],\n",
    "    \"Athen\": [37.9838, 23.7275],\n",
    "    \"Baja\": [46.1803, 19.0111],\n",
    "    \"Beijing\": [39.9042, 116.4074],\n",
    "    \"Berlin\": [52.5200, 13.4050],\n",
    "    \"Budapest\": [47.4979, 19.0402],\n",
    "    \"Budakeszi\": [47.5136, 18.9278],\n",
    "    \"Budaors\": [47.4621, 18.9530],\n",
    "    \"Brussels\": [50.8503, 4.3517],\n",
    "    \"Debrecen\": [47.5316, 21.6273],\n",
    "    \"Dunaujvaros\": [46.9619, 18.9355],\n",
    "    \"Gyor\": [47.6875, 17.6504],\n",
    "    \"Jerusalem\": [31.7683, 35.2137],\n",
    "    \"Kecskemet\": [46.8964, 19.6897],\n",
    "    \"Lumbaqui\": [0.0467, -77.3281],\n",
    "    \"London\": [51.5074, -0.1278],\n",
    "    \"Mako\": [46.2219, 20.4809],\n",
    "    \"Miskolc\": [48.1035, 20.7784],\n",
    "    \"Nagykanizsa\": [46.4590, 16.9897],\n",
    "    \"NewYork\": [40.7128, -74.0060],\n",
    "    \"Paris\": [48.8566, 2.3522],\n",
    "    \"Piszkesteto\": [47.91806, 19.8942],\n",
    "    \"Pecs\": [46.0727, 18.2323],\n",
    "    \"Rio\": [-22.9068, -43.1729],\n",
    "    \"Rome\": [41.9028, 12.4964],\n",
    "    \"Szeged\": [46.2530, 20.1414],\n",
    "    \"Szeghalom\": [47.0239, 21.1667],\n",
    "    \"Szekesfehervar\": [47.1860, 18.4221],\n",
    "    \"Szombathely\": [47.2307, 16.6218],\n",
    "    \"Tokyo\": [35.6895, 139.6917],\n",
    "    \"Washington\": [47.7511, -120.7401],\n",
    "    \"Zalaegerszeg\": [46.8417, 16.8416]\n",
    "}"
   ]
  },
  {
   "cell_type": "code",
   "execution_count": null,
   "id": "7eb32a44-4234-405b-ab90-3cf4d58e3705",
   "metadata": {},
   "outputs": [],
   "source": [
    "def haversine(lat1, lat2, long1, long2):\n",
    "    '''\n",
    "    Implements the Haversine formulate that calculates the distance\n",
    "    between two points on a spherical surface. Both points should be\n",
    "    specified by a pair of latitude-longitude values given in radians.\n",
    "\n",
    "    Parameters:\n",
    "    -----------\n",
    "    lat1, lat2 : floats\n",
    "        Latitude values in radians.\n",
    "    long1, long2 : floats\n",
    "        Longitude values in radians.\n",
    "\n",
    "    Returns:\n",
    "    --------\n",
    "    distance : float\n",
    "        The distance between the two points in the same units as\n",
    "        `R_Earth`.\n",
    "    '''\n",
    "    # Normalize input parameters to their expected ranges\n",
    "    lat1 = normalize_sym(x=lat1, p=np.pi/2)\n",
    "    lat2 = normalize_sym(x=lat2, p=np.pi/2)\n",
    "    long1 = normalize_asym(x=long1, p=np.pi)\n",
    "    long2 = normalize_asym(x=long2, p=np.pi)\n",
    "\n",
    "    # Haversine step 1.\n",
    "    H_1 = np.sin((lat2 - lat1) / 2)**2\n",
    "    H_1 += np.cos(lat1) * np.cos(lat2) * np.sin((long2 - long1) / 2)**2\n",
    "    # Haversine step 2.\n",
    "    H_2 = 2 * np.arctan2(np.sqrt(H_1), np.sqrt(1 - H_1))\n",
    "    # Haversine step 3.\n",
    "    distance = R_Earth * H_2\n",
    "    return distance"
   ]
  },
  {
   "cell_type": "code",
   "execution_count": null,
   "id": "2d60b73b-9f35-4035-b883-1c27ef6ff95d",
   "metadata": {},
   "outputs": [],
   "source": [
    "lat1, long1 = (np.deg2rad(v) for v in location_dict['Paris'])\n",
    "lat2, long2 = (np.deg2rad(v) for v in location_dict['Tokyo'])\n",
    "distance = haversine(lat1=lat1, lat2=lat2, long1=long1, long2=long2)\n",
    "distance / 1000  # Paris-Tokyo should be around 9700 something km"
   ]
  },
  {
   "cell_type": "code",
   "execution_count": null,
   "id": "7c8aed9c-ea66-4f6e-a0f5-bd17d123dbdc",
   "metadata": {},
   "outputs": [],
   "source": []
  }
 ],
 "metadata": {
  "kernelspec": {
   "display_name": "Python 3 (ipykernel)",
   "language": "python",
   "name": "python3"
  },
  "language_info": {
   "codemirror_mode": {
    "name": "ipython",
    "version": 3
   },
   "file_extension": ".py",
   "mimetype": "text/x-python",
   "name": "python",
   "nbconvert_exporter": "python",
   "pygments_lexer": "ipython3",
   "version": "3.9.19"
  }
 },
 "nbformat": 4,
 "nbformat_minor": 5
}
