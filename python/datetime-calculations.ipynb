{
 "cells": [
  {
   "cell_type": "markdown",
   "id": "e5eba054-84f6-4023-b14a-bc97944a0caf",
   "metadata": {},
   "source": [
    "# Datetime calculations"
   ]
  },
  {
   "cell_type": "code",
   "execution_count": null,
   "id": "58f16080-67a5-4001-bac0-2984a72eb677",
   "metadata": {},
   "outputs": [],
   "source": [
    "import numpy as np\n",
    "from datetime import datetime\n",
    "\n",
    "from _utils import *\n",
    "from constants import J2000, dS"
   ]
  },
  {
   "cell_type": "markdown",
   "id": "3a1fa86a-c7e8-410a-af3a-60747b5aa73e",
   "metadata": {},
   "source": [
    "## Convert Gregorian Date to Julian Date\n",
    "#### Sourced from:\n",
    "- https://aa.quae.nl/en/reken/juliaansedag.html\n",
    "- http://neoprogrammics.com/sidereal_time_calculator/index.php\n",
    "- L. E. Doggett, “Calendars,” In: P. K. Seidelmann, Ed., Explanatory Supplement to the Astronomical Almanac, US Naval Observatory, University Science Books Company, Mill Valley, 1992.\n",
    "\n",
    "#### Abbrevations\n",
    "- JDN: Julian Day Number (Universal Time, starts at 12:00 UTC)\n",
    "- JD: JDN + f. Julian Day Number + fraction of the day (Universal Time, starts at 12:00 UTC)\n",
    "- CJD - CJDN: Chronological Julian Date - Chronological Julian Day Number (Local Time, starts at 00:00 LT)\n",
    "\n",
    "#### Definition of JD, JDN and CJD, CJDN\n",
    "The zero point of JD (i.e., JD 0.0) corresponds to 12:00 UTC on 1 January −4712 in the Julian calendar.  \n",
    "The zero point of CJD corresponds to 00:00 (midnight) local time on 1 January −4712.  \n",
    "JDN 0 corresponds to the period from 12:00 UTC on 1 January −4712 to 12:00 UTC on 2 January −4712.  \n",
    "CJDN 0 corresponds to 1 January −4712 (the whole day, in local time)."
   ]
  },
  {
   "cell_type": "code",
   "execution_count": null,
   "id": "690764d6-5620-478e-9b42-1ea3f64035bc",
   "metadata": {},
   "outputs": [],
   "source": [
    "def gd2jd(Y, M, D, UT=0):\n",
    "    '''\n",
    "    Converts a Gregorian UTC datetime to Julian Date.\n",
    "\n",
    "    Parameters:\n",
    "    -----------\n",
    "    Y : int\n",
    "        Gregorian year.\n",
    "    M : int\n",
    "        Gregorian month.\n",
    "    D : int\n",
    "        Gregorian day.\n",
    "    UT : float, optional\n",
    "        Time in UTC, default value corresponds to 00:00 UTC.\n",
    "\n",
    "    Returns:\n",
    "    --------\n",
    "    JD : float\n",
    "    '''\n",
    "    JDN = 367 * Y - 7 * (Y + (M + 9) // 12) // 4 + 275 * M // 9 + D - 730531.5\n",
    "    JDN += J2000\n",
    "    f = UT / 24  # Fraction of the day\n",
    "    return JDN + f"
   ]
  },
  {
   "cell_type": "code",
   "execution_count": null,
   "id": "039626ba-5328-4d79-977f-5bcf67d873c5",
   "metadata": {},
   "outputs": [],
   "source": [
    "gd2jd(2000, 1, 1, UT=0)  # 2000.01.01, 00:00 UTC should be 2451544.5"
   ]
  },
  {
   "cell_type": "code",
   "execution_count": null,
   "id": "9b49df1d-745e-4630-b7e2-54224c430091",
   "metadata": {},
   "outputs": [],
   "source": [
    "def gd2jd_2(Y, M, D, UT=0):\n",
    "    '''\n",
    "    ALternative way to convert a Gregorian UTC datetime to Julian Date.\n",
    "\n",
    "    Parameters:\n",
    "    -----------\n",
    "    Y : int\n",
    "        Gregorian year.\n",
    "    M : int\n",
    "        Gregorian month.\n",
    "    D : int\n",
    "        Gregorian day.\n",
    "    UT : float, optional\n",
    "        Time of the day in hours in UTC, default value corresponds to\n",
    "        00:00 UTC.\n",
    "\n",
    "    Returns:\n",
    "    --------\n",
    "    JD : float\n",
    "    '''\n",
    "    c_0 = (M - 3) // 12\n",
    "    x_4 = Y + c_0\n",
    "    x_3 = x_4 // 100\n",
    "    x_2 = x_4 % 100\n",
    "    x_1 = M - 12 * c_0 - 3\n",
    "    JDN = (146097 * x_3) // 4 + (36525 * x_2) // 100 + (153 * x_1 + 2) // 5 + D\n",
    "    JDN += 1721118.5\n",
    "    f = UT / 24  # Fraction of the day\n",
    "    return JDN + f"
   ]
  },
  {
   "cell_type": "code",
   "execution_count": null,
   "id": "25f0f4b2-5c5b-4536-830a-c651c4917812",
   "metadata": {},
   "outputs": [],
   "source": [
    "gd2jd_2(2000, 1, 1, UT=0)  # 2000.01.01, 00:00 UTC should be 2451544.5"
   ]
  },
  {
   "cell_type": "markdown",
   "id": "b0e9dcc3-7450-4345-b583-25ddf21f4af5",
   "metadata": {},
   "source": [
    "## Convert Julian Date to Gregorian Date"
   ]
  },
  {
   "cell_type": "code",
   "execution_count": null,
   "id": "ca416f2b-5a46-458d-8bb3-c78b1757ff24",
   "metadata": {},
   "outputs": [],
   "source": [
    "def jd2gd(JD):\n",
    "    '''\n",
    "    Convert Julian Date to Gregorian UTC datetime.\n",
    "\n",
    "    Algorithm is the same as in `jdcal.jd2gcal()` seen in\n",
    "    https://github.com/phn/jdcal/blob/master/jdcal.py#L193.\n",
    "\n",
    "    Parameters\n",
    "    ----------\n",
    "    JD : scalar or array_like\n",
    "        Julian Date or array of Julian Dates.\n",
    "    '''\n",
    "    f, JDN = np.modf(JD)\n",
    "\n",
    "    # Set JD to noon of the current date. Fractional part is the\n",
    "    # fraction from midnight of the current date.\n",
    "    if -0.5 < f < 0.5:\n",
    "        f += 0.5\n",
    "    elif f >= 0.5:\n",
    "        JDN += 1\n",
    "        f -= 0.5\n",
    "    elif f <= -0.5:\n",
    "        JDN -= 1\n",
    "        f += 1.5\n",
    "\n",
    "    # Calculate years, months and days\n",
    "    ell = np.int64(JDN + 68569)\n",
    "    n = np.int64((4 * ell) / 146097)\n",
    "    ell -= np.int64(((146097 * n) + 3) / 4)\n",
    "    i = np.int64((4000 * (ell + 1)) / 1461001)\n",
    "    ell -= np.int64((1461 * i) / 4) - 31\n",
    "    j = np.int64((80 * ell) / 2447.0)\n",
    "    D = ell - np.int64((2447 * j) / 80)\n",
    "    ell = np.int64(j / 11)\n",
    "    M = j + 2 - (12 * ell)\n",
    "    Y = 100 * (n - 49) + i + ell\n",
    "\n",
    "    # Calculate UT time of the day as fraction of hours\n",
    "    UT = f*24\n",
    "\n",
    "    return Y, M, D, UT"
   ]
  },
  {
   "cell_type": "code",
   "execution_count": null,
   "id": "bee9b700-0f53-4ba0-98ba-ba3b8305d3c3",
   "metadata": {},
   "outputs": [],
   "source": [
    "jd2gd(2451544.5)  # 2451544.5 should be 2000.01.01, 00:00 UTC"
   ]
  },
  {
   "cell_type": "markdown",
   "id": "a607c83b-b80c-4972-bb2d-716317cd372b",
   "metadata": {},
   "source": [
    "## Calculate Greenwich Mean Sidereal Time (GMST $= S_{0}$) on the given date at 00:00 UTC"
   ]
  },
  {
   "cell_type": "markdown",
   "id": "8e9e7d5b-c80c-47cc-93b4-34fc022e6d11",
   "metadata": {},
   "source": [
    "#### Method 1.\n",
    "$$\n",
    "    S_{0} = 24110.54841 + 8640184.812866\\,T_{u} + 0.093104\\,{T_{u}}^{2} - 6.2 \\times 10^{-6}\\,{T_{u}}^3,\n",
    "$$\n",
    "\n",
    "where $T_{u}$ is number of Julian centuries since J2000.0. $S_{0}$ in this form is in seconds of time.\n",
    "\n",
    "#### Sourced from:\n",
    "- https://astronomy.stackexchange.com/questions/21002/how-to-find-greenwich-mean-sideral-time\n",
    "- http://www2.arnes.si/~gljsentvid10/sidereal.htm\n",
    "- https://en.wikipedia.org/wiki/Universal_Time#Versions"
   ]
  },
  {
   "cell_type": "code",
   "execution_count": null,
   "id": "7fff7be5-3be1-403e-acd2-37538d9ecc44",
   "metadata": {},
   "outputs": [],
   "source": [
    "def gmst(Y, M, D):\n",
    "    '''\n",
    "    Calculates the Greenwich Mean Sidereal Time (GMST = S0) on a given\n",
    "    date at 00:00 UTC.\n",
    "\n",
    "    Parameters:\n",
    "    -----------\n",
    "    Y : int\n",
    "        Gregorian year.\n",
    "    M : int\n",
    "        Gregorian month.\n",
    "    D : int\n",
    "        Gregorian day.\n",
    "\n",
    "    Returns:\n",
    "    --------\n",
    "    GMST : float\n",
    "        Greenwhich Mean Sidereal Time in hours.\n",
    "    '''\n",
    "    JD = gd2jd(Y=Y, M=M, D=D, UT=0)\n",
    "    T_u = (JD - J2000) / 36525  # Number of Julian centuries since J2000\n",
    "\n",
    "    c0, c1, c2, c3 = 24110.54841, 8640184.812866, 0.093104, 6.2e-05\n",
    "    GMST = (c0 + c1 * T_u + c2 * T_u**2 - c3 * T_u**3) / 3600 % 24  # Hours\n",
    "    return GMST"
   ]
  },
  {
   "cell_type": "code",
   "execution_count": null,
   "id": "a07dec25-6de9-4f7c-8e60-dd8eb342f62f",
   "metadata": {},
   "outputs": [],
   "source": [
    "print(gmst(2000, 1, 1))  # 2000.01.01, 00:00 UTC should be 6.6645196..."
   ]
  },
  {
   "cell_type": "markdown",
   "id": "7c5fc58c-91b0-444d-9240-f13b00e2651b",
   "metadata": {},
   "source": [
    "#### Method 2.\n",
    "$$\n",
    "    S_{0} = 280.46061837 + 360.98564736629 \\times (\\text{JD} - \\text{J2000})  + 0.000388\\,{T_{u}}^{2} - T_{u}^{3}/387100000,\n",
    "$$\n",
    "\n",
    "where $T_{u}$ is number of Julian centuries since J2000.0 and $\\text{JD}$ is the Julian Date. $S_{0}$ in this form is in arc degrees.\n",
    "\n",
    "#### References:\n",
    "- http://www.cashin.net/sidereal/calculation.html"
   ]
  },
  {
   "cell_type": "code",
   "execution_count": null,
   "id": "1e68be75-ec3c-4d2a-8263-3acca04fdef6",
   "metadata": {},
   "outputs": [],
   "source": [
    "def gmst_2(Y, M, D):\n",
    "    '''\n",
    "    Alternative way to calculate the Greenwich Mean Sidereal Time \n",
    "    (GMST = S0) on a given date at 00:00 UTC.\n",
    "\n",
    "    Parameters:\n",
    "    -----------\n",
    "    Y : int\n",
    "        Gregorian year.\n",
    "    M : int\n",
    "        Gregorian month.\n",
    "    D : int\n",
    "        Gregorian day.\n",
    "\n",
    "    Returns:\n",
    "    --------\n",
    "    GMST : float\n",
    "        Greenwhich Mean Sidereal Time in hours.\n",
    "    '''\n",
    "    JD = gd2jd(Y=Y, M=M, D=D, UT=0)\n",
    "    T_u = (JD - J2000) / 36525  # Number of Julian centuries since J2000\n",
    "\n",
    "    c0, c1, c2, c3 = 280.46061837, 360.98564736629, 0.000388, 387100000\n",
    "    GMST = (c0 + c1 * (JD-J2000) + c2 * T_u**2 - T_u**3 / c3) / 15 % 360  # Hours\n",
    "    return GMST"
   ]
  },
  {
   "cell_type": "code",
   "execution_count": null,
   "id": "7829433c-ad39-466b-8ad1-4df8908fa6ba",
   "metadata": {},
   "outputs": [],
   "source": [
    "print(gmst_2(2000, 1, 1))  # 2000.01.01, 00:00 UTC should be 6.6645196..."
   ]
  },
  {
   "cell_type": "markdown",
   "id": "47e8fe50-440e-459f-913d-5f778504749f",
   "metadata": {},
   "source": [
    "### Calculate Local Mean Sidereal Time (LMST $= S$) on the given date and time at a specific location\n",
    "The Local Mean Sidereal Time could be approximated for any given location on earth with the formula\n",
    "\n",
    "$$\n",
    "    S = S_{0} + \\lambda^{\\ast}\n",
    "$$\n",
    "\n",
    "Where $\\lambda^{\\ast}$ is the longitude of the choosen position in hours of time. This value can be made more accurate by taking into account the difference between the Sidereal and Synodic/Solar day. Hence UTC is Synodic, but LMST is Sidereal, we can take into account this with an additional correction:\n",
    "\n",
    "$$\n",
    "    S = S_{0} + \\lambda^{\\ast} + dS \\cdot T_{\\text{UTC}}\n",
    "$$\n",
    "\n",
    "Here $dS = 1.00273790935(\\dots)$ indicates the ration between the Sidereal and Synodic day and $T_{\\text{UTC}}$ represents the actual UTC time in hours.\n",
    "\n",
    "#### References:\n",
    "- https://www.cfa.harvard.edu/~jzhao/times.html\n",
    "- https://tycho.usno.navy.mil/sidereal.html"
   ]
  },
  {
   "cell_type": "code",
   "execution_count": null,
   "id": "ed0577de-cca8-40fa-9225-338a3c8f653d",
   "metadata": {},
   "outputs": [],
   "source": [
    "def lmst(Y, M, D, UT=0, long=0):\n",
    "    '''\n",
    "    Calculates Local Mean Sidereal Time (LMST = S) on the given date and\n",
    "    time at a specific location.\n",
    "\n",
    "    Parameters:\n",
    "    -----------\n",
    "    Y : int\n",
    "        Gregorian year.\n",
    "    M : int\n",
    "        Gregorian month.\n",
    "    D : int\n",
    "        Gregorian day.\n",
    "    UT : float, optional\n",
    "        Time in UTC hours, default value corresponds to 00:00 UTC.\n",
    "    long : float, optional\n",
    "        The longitude in degrees of the location the LMST is calculated\n",
    "        for.\n",
    "\n",
    "    Returns:\n",
    "    --------\n",
    "    LMST : float\n",
    "        Local Mean Sidereal Time in hours.\n",
    "    '''\n",
    "    # Normalize input parameters to their expected ranges\n",
    "    long = normalize_asym(x=long, p=180)\n",
    "\n",
    "    GMST = gmst(Y, M, D)\n",
    "    LMST = GMST + long/15 + dS * UT\n",
    "    return LMST"
   ]
  },
  {
   "cell_type": "code",
   "execution_count": null,
   "id": "f8d3dba6-ea04-4c4b-b17e-03425aba7606",
   "metadata": {},
   "outputs": [],
   "source": [
    "lmst(2000, 1, 1, 0, 0)  # 2000.01.01, 00:00 UTC, 0°N should be 6.6645196..."
   ]
  },
  {
   "cell_type": "code",
   "execution_count": null,
   "id": "408f948b-39ef-44a8-8239-e72cbe514958",
   "metadata": {},
   "outputs": [],
   "source": [
    "lmst(2000, 1, 1, 0, 179.999) - lmst(2000, 1, 1, 0, 180.001)  # Should be ~24"
   ]
  }
 ],
 "metadata": {
  "kernelspec": {
   "display_name": "Python 3 (ipykernel)",
   "language": "python",
   "name": "python3"
  },
  "language_info": {
   "codemirror_mode": {
    "name": "ipython",
    "version": 3
   },
   "file_extension": ".py",
   "mimetype": "text/x-python",
   "name": "python",
   "nbconvert_exporter": "python",
   "pygments_lexer": "ipython3",
   "version": "3.9.19"
  }
 },
 "nbformat": 4,
 "nbformat_minor": 5
}
